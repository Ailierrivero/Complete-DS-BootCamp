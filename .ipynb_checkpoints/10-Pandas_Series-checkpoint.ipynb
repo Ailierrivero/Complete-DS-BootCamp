{
 "cells": [
  {
   "cell_type": "code",
   "execution_count": 1,
   "id": "frank-composition",
   "metadata": {},
   "outputs": [],
   "source": [
    "import pandas as pd"
   ]
  },
  {
   "cell_type": "code",
   "execution_count": 2,
   "id": "according-gentleman",
   "metadata": {},
   "outputs": [],
   "source": [
    "l1 = [3,6,8,10,30,22]"
   ]
  },
  {
   "cell_type": "code",
   "execution_count": 3,
   "id": "working-atlanta",
   "metadata": {},
   "outputs": [],
   "source": [
    "s1 = pd.Series(l1) # a Panda series is like a column in a table"
   ]
  },
  {
   "cell_type": "code",
   "execution_count": 4,
   "id": "computational-reggae",
   "metadata": {},
   "outputs": [
    {
     "data": {
      "text/plain": [
       "0     3\n",
       "1     6\n",
       "2     8\n",
       "3    10\n",
       "4    30\n",
       "5    22\n",
       "dtype: int64"
      ]
     },
     "execution_count": 4,
     "metadata": {},
     "output_type": "execute_result"
    }
   ],
   "source": [
    "s1"
   ]
  },
  {
   "cell_type": "code",
   "execution_count": 8,
   "id": "cosmetic-allocation",
   "metadata": {},
   "outputs": [],
   "source": [
    "d1 = {\"first\": 10, \"second\": 100, \"third\": 1000}"
   ]
  },
  {
   "cell_type": "code",
   "execution_count": 9,
   "id": "79863e98",
   "metadata": {},
   "outputs": [],
   "source": [
    "s2 = pd.Series(d1)"
   ]
  },
  {
   "cell_type": "code",
   "execution_count": 10,
   "id": "5806c48d",
   "metadata": {},
   "outputs": [
    {
     "data": {
      "text/plain": [
       "first       10\n",
       "second     100\n",
       "third     1000\n",
       "dtype: int64"
      ]
     },
     "execution_count": 10,
     "metadata": {},
     "output_type": "execute_result"
    }
   ],
   "source": [
    "s2"
   ]
  },
  {
   "cell_type": "code",
   "execution_count": null,
   "id": "eeb3f6a2",
   "metadata": {},
   "outputs": [],
   "source": []
  }
 ],
 "metadata": {
  "kernelspec": {
   "display_name": "Python 3 (ipykernel)",
   "language": "python",
   "name": "python3"
  },
  "language_info": {
   "codemirror_mode": {
    "name": "ipython",
    "version": 3
   },
   "file_extension": ".py",
   "mimetype": "text/x-python",
   "name": "python",
   "nbconvert_exporter": "python",
   "pygments_lexer": "ipython3",
   "version": "3.9.15"
  }
 },
 "nbformat": 4,
 "nbformat_minor": 5
}
